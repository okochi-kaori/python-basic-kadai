{
  "nbformat": 4,
  "nbformat_minor": 0,
  "metadata": {
    "colab": {
      "provenance": []
    },
    "kernelspec": {
      "name": "python3",
      "display_name": "Python 3"
    },
    "language_info": {
      "name": "python"
    }
  },
  "cells": [
    {
      "cell_type": "code",
      "execution_count": 5,
      "metadata": {
        "colab": {
          "base_uri": "https://localhost:8080/"
        },
        "id": "0Kc6tsR3djAJ",
        "outputId": "d2b81241-f8d9-4e6a-e707-0dbfbe3d76ee"
      },
      "outputs": [
        {
          "output_type": "stream",
          "name": "stdout",
          "text": [
            "1100.0\n"
          ]
        }
      ],
      "source": [
        "def total_price(price,tax):\n",
        "  return price + (price * tax*0.01)\n",
        "\n",
        "total_price(110,10)\n",
        "#print(total_price(1000,10))"
      ]
    }
  ]
}