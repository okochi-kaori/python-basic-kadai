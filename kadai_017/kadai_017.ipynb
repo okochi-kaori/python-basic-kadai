{
  "nbformat": 4,
  "nbformat_minor": 0,
  "metadata": {
    "colab": {
      "provenance": []
    },
    "kernelspec": {
      "name": "python3",
      "display_name": "Python 3"
    },
    "language_info": {
      "name": "python"
    }
  },
  "cells": [
    {
      "cell_type": "code",
      "execution_count": 9,
      "metadata": {
        "colab": {
          "base_uri": "https://localhost:8080/"
        },
        "id": "hkb5bFwZaK59",
        "outputId": "93e6ae63-47c5-422f-9442-44f8bff3435b"
      },
      "outputs": [
        {
          "output_type": "stream",
          "name": "stdout",
          "text": [
            "侍太郎さんは、大人です\n",
            "サムライ次郎さんは、大人ではありません\n",
            "侍三郎さんは、大人ではありません\n"
          ]
        }
      ],
      "source": [
        "class Human:\n",
        "  def __init__(self,name :str, age :int):\n",
        "    self.name = name\n",
        "    self.age = age\n",
        "\n",
        "  def check_adult(self):\n",
        "    if self.age >= 20:\n",
        "      print(f\"{self.name}さんは、大人です\")\n",
        "    else:\n",
        "      print(f\"{self.name}さんは、大人ではありません\")\n",
        "\n",
        "users = [Human(\"侍太郎\", 36), Human(\"サムライ次郎\", 19), Human(\"侍三郎\", 15)]\n",
        "\n",
        "for user in users:\n",
        "  user.check_adult()"
      ]
    }
  ]
}