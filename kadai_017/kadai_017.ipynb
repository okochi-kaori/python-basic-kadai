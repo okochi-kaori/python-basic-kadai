{
  "nbformat": 4,
  "nbformat_minor": 0,
  "metadata": {
    "colab": {
      "provenance": []
    },
    "kernelspec": {
      "name": "python3",
      "display_name": "Python 3"
    },
    "language_info": {
      "name": "python"
    }
  },
  "cells": [
    {
      "cell_type": "code",
      "execution_count": 7,
      "metadata": {
        "colab": {
          "base_uri": "https://localhost:8080/"
        },
        "id": "hkb5bFwZaK59",
        "outputId": "0a145e88-db89-420a-8ca0-81b91ebb0070"
      },
      "outputs": [
        {
          "output_type": "stream",
          "name": "stdout",
          "text": [
            "侍太郎さんは、大人です\n"
          ]
        }
      ],
      "source": [
        "class Human:\n",
        "  def __init__(self,name :str, age :int):\n",
        "    self.name = name\n",
        "    self.age = age\n",
        "\n",
        "  def checkadult(self):\n",
        "    if self.age >= 20:\n",
        "      print(f\"{self.name}さんは、大人です\")\n",
        "    else:\n",
        "      print(f\"{self.name}さんは、大人ではありません\")\n",
        "\n",
        "user = Human(\"侍太郎\",36)\n",
        "user.checkadult()\n"
      ]
    }
  ]
}