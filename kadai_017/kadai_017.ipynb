{
  "nbformat": 4,
  "nbformat_minor": 0,
  "metadata": {
    "colab": {
      "provenance": []
    },
    "kernelspec": {
      "name": "python3",
      "display_name": "Python 3"
    },
    "language_info": {
      "name": "python"
    }
  },
  "cells": [
    {
      "cell_type": "code",
      "execution_count": 8,
      "metadata": {
        "colab": {
          "base_uri": "https://localhost:8080/"
        },
        "id": "hkb5bFwZaK59",
        "outputId": "463a588c-1b0b-4681-c135-e2cd3854db27"
      },
      "outputs": [
        {
          "output_type": "stream",
          "name": "stdout",
          "text": [
            "侍太郎さんは、大人です\n",
            "サムライ次郎さんは、大人ではありません\n",
            "侍三郎さんは、大人ではありません\n"
          ]
        }
      ],
      "source": [
        "class Human:\n",
        "  def __init__(self,name :str, age :int):\n",
        "    self.name = name\n",
        "    self.age = age\n",
        "\n",
        "  def checkadult(self):\n",
        "    if self.age >= 20:\n",
        "      print(f\"{self.name}さんは、大人です\")\n",
        "    else:\n",
        "      print(f\"{self.name}さんは、大人ではありません\")\n",
        "\n",
        "users = [Human(\"侍太郎\", 36), Human(\"サムライ次郎\", 19), Human(\"侍三郎\", 15)]\n",
        "\n",
        "for user in users:\n",
        "  user.checkadult()"
      ]
    }
  ]
}